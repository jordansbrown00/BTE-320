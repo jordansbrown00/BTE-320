{
  "nbformat": 4,
  "nbformat_minor": 0,
  "metadata": {
    "colab": {
      "provenance": [],
      "authorship_tag": "ABX9TyNbeB+qWWFpm+9BF3hH8+OW",
      "include_colab_link": true
    },
    "kernelspec": {
      "name": "python3",
      "display_name": "Python 3"
    },
    "language_info": {
      "name": "python"
    }
  },
  "cells": [
    {
      "cell_type": "markdown",
      "metadata": {
        "id": "view-in-github",
        "colab_type": "text"
      },
      "source": [
        "<a href=\"https://colab.research.google.com/github/jordansbrown00/BTE-320/blob/main/In_Class_Assignment.ipynb\" target=\"_parent\"><img src=\"https://colab.research.google.com/assets/colab-badge.svg\" alt=\"Open In Colab\"/></a>"
      ]
    },
    {
      "cell_type": "markdown",
      "source": [
        "***ASSIGNMENT 1***"
      ],
      "metadata": {
        "id": "oaSoEACSmiOq"
      }
    },
    {
      "cell_type": "markdown",
      "source": [
        "Inputs:\n",
        "Sales; % of COGS\n",
        "\n",
        "ENTER BOTH INPUTS AS INPUTS\n",
        "\n",
        "Outputs:\n",
        "COGS; Gross Profit\n",
        "\n",
        "Find the process\n",
        "\n"
      ],
      "metadata": {
        "id": "wQ6NPh3A-9Je"
      }
    },
    {
      "cell_type": "markdown",
      "source": [
        "New input:\n",
        "1. Add input for tax rate (%)\n",
        "\n",
        "New processes + output:\n",
        "1. Calculate taxes: Gross profit * taxes\n",
        "2. net income: gross profit - taxes"
      ],
      "metadata": {
        "id": "JBEhf0EWE7Ol"
      }
    },
    {
      "cell_type": "code",
      "source": [
        "# Inputs: Sales ($) and cost of goods pct (%) +1 input:\n",
        "sales = input(\"Enter sales ($): \")\n",
        "sales = float(sales)\n",
        "\n",
        "cogs_pct = input(\"Enter Cost of Goods (%): \")\n",
        "cogs_pct = float(cogs_pct)\n",
        "\n",
        "rate = input(\"Enter tax rate (%): \")\n",
        "rate = float(rate)\n",
        "\n",
        "# Processes: calculate cost of goods sold and calculate +2 processes:\n",
        "cogs = sales * cogs_pct / 100\n",
        "grossProfit = sales - cogs\n",
        "taxes = grossProfit * rate / 100\n",
        "netIncome = grossProfit - taxes\n",
        "\n",
        "# Outputs - display cost of goods sold and gross profit on the screen +2 outputs:\n",
        "print(f\"Cost of Goods Sold: ${cogs}\")\n",
        "print(f\"Gross Profit: ${grossProfit}\")\n",
        "print(f\"Net Income: ${netIncome}\")\n"
      ],
      "metadata": {
        "colab": {
          "base_uri": "https://localhost:8080/"
        },
        "id": "_QbGxZ0uCAHa",
        "outputId": "25844a3b-3032-4f53-b179-e68f4a920380"
      },
      "execution_count": null,
      "outputs": [
        {
          "output_type": "stream",
          "name": "stdout",
          "text": [
            "Enter sales ($): 12000\n",
            "Enter Cost of Goods (%): 40\n",
            "Enter tax rate (%): 30\n",
            "Cost of Goods Sold: $4800.0\n",
            "Gross Profit: $7200.0\n",
            "Net Income: $5040.0\n"
          ]
        }
      ]
    },
    {
      "cell_type": "markdown",
      "source": [
        "***ASSIGNMENT 2***"
      ],
      "metadata": {
        "id": "pkh40REEmZKz"
      }
    },
    {
      "cell_type": "markdown",
      "source": [
        "Inputs:demand, supply cost, holding cost\n",
        "\n",
        "Outputs: calculate how much of the item to reorder to minimize annual ordering storing costs\n",
        "\n",
        "\n",
        "Find the process"
      ],
      "metadata": {
        "id": "0jwpFl9vmsfg"
      }
    },
    {
      "cell_type": "code",
      "source": [
        "#Inputs: demand, sales, holding costs\n",
        "demand = input(\"Enter demand (units/year): \")\n",
        "demand = int(demand)\n",
        "\n",
        "reorder = input(\"Enter reorder cost ($/order): \")\n",
        "reorder = float(reorder)\n",
        "\n",
        "holding = input(\"Enter holding_cost ($/unit/year): \")\n",
        "holding = float(holding)\n",
        "\n",
        "#Processes:\n",
        "eoq = (2 *demand * reorder / holding) ** (1/2)\n",
        "\n",
        "#Output#\n",
        "print(f\"EOQ: {eoq} units\")"
      ],
      "metadata": {
        "colab": {
          "base_uri": "https://localhost:8080/"
        },
        "id": "TniZRIqknm6l",
        "outputId": "84ecfe29-b822-4be7-b42e-6f4974260e20"
      },
      "execution_count": null,
      "outputs": [
        {
          "output_type": "stream",
          "name": "stdout",
          "text": [
            "Enter demand (units/year): 1000\n",
            "Enter reorder cost ($/order): 50\n",
            "Enter holding_cost ($/unit/year): 100\n",
            "EOQ: 31.622776601683793 units\n"
          ]
        }
      ]
    },
    {
      "cell_type": "markdown",
      "source": [
        "***ASSIGNMENT 3***"
      ],
      "metadata": {
        "id": "SKu-fhRWp_Uy"
      }
    },
    {
      "cell_type": "code",
      "source": [
        "#Inputs: my hours studied, my friends hours studied, total hours studed\n",
        "my_hours = float(input(\"My study hours\"))\n",
        "friend_hours = float(input(\"Friend study hours\"))\n",
        "op = input('Enter operator: +,-,*,/,//,**,%')\n",
        "\n",
        "#Output:\n",
        "if op == \"+\":\n",
        "  total_hours = my_hours + friend_hours\n",
        "elif op == \"-\":\n",
        "  total_hours = my_hours - friend_hours\n",
        "elif op == \"*\":\n",
        "  total_hours = my_hours * friend_hours\n",
        "elif op == \"/\":\n",
        "  total_hours = my_hours / friend_hours\n",
        "elif op == \"//\":\n",
        "  total_hours = my_hours // friend_hours\n",
        "elif op == \"**\":\n",
        "  total_hours = my_hours ** friend_hours\n",
        "elif op == \"%\":\n",
        "  total_hours = my_hours % friend_hours\n",
        "else:\n",
        "  total_hours = None\n",
        "  print(\"Invalid Operator\")\n",
        "\n",
        "print(f\"total = {total_hours}\")"
      ],
      "metadata": {
        "colab": {
          "base_uri": "https://localhost:8080/"
        },
        "id": "Av19CxcvqCxP",
        "outputId": "6a97c3b4-7f69-4ef8-e788-bf56aa61fb3a"
      },
      "execution_count": null,
      "outputs": [
        {
          "output_type": "stream",
          "name": "stdout",
          "text": [
            "My study hours6\n",
            "Friend study hours3\n",
            "Enter operator: +,-,*,/,//,**,%/\n",
            "total = 2.0\n"
          ]
        }
      ]
    },
    {
      "cell_type": "code",
      "source": [
        "n1 = float(input(\"Enter number 1: \"))\n",
        "n2 = float(input(\"Enter number 2: \"))\n",
        "op = input('Enter operator: +,-,*,/,//,**,%')\n",
        "\n",
        "#Output:\n",
        "if op == \"+\":\n",
        "  res = n1 + n2\n",
        "elif op == \"-\":\n",
        "  res = n1 - n2\n",
        "elif op == \"*\":\n",
        "  res = n1 * n2\n",
        "elif op == \"/\":\n",
        "  res = n1 / n2\n",
        "elif op == \"//\":\n",
        "  res = n1 // n2\n",
        "elif op == \"**\":\n",
        "  res = n1 ** n2\n",
        "elif op == \"%\":\n",
        "  res = n1 % n2\n",
        "else:\n",
        "  res = None\n",
        "  print(\"Invalid Operator\")\n",
        "\n",
        "print(f\"total = {total_hours}\")"
      ],
      "metadata": {
        "colab": {
          "base_uri": "https://localhost:8080/",
          "height": 356
        },
        "id": "I4aADjoSwkWd",
        "outputId": "ff3640cf-4c69-4609-e96e-a642f724f7a3"
      },
      "execution_count": 1,
      "outputs": [
        {
          "output_type": "error",
          "ename": "KeyboardInterrupt",
          "evalue": "Interrupted by user",
          "traceback": [
            "\u001b[0;31m---------------------------------------------------------------------------\u001b[0m",
            "\u001b[0;31mKeyboardInterrupt\u001b[0m                         Traceback (most recent call last)",
            "\u001b[0;32m/tmp/ipython-input-4189197479.py\u001b[0m in \u001b[0;36m<cell line: 0>\u001b[0;34m()\u001b[0m\n\u001b[0;32m----> 1\u001b[0;31m \u001b[0mn1\u001b[0m \u001b[0;34m=\u001b[0m \u001b[0mfloat\u001b[0m\u001b[0;34m(\u001b[0m\u001b[0minput\u001b[0m\u001b[0;34m(\u001b[0m\u001b[0;34m\"Enter number 1: \"\u001b[0m\u001b[0;34m)\u001b[0m\u001b[0;34m)\u001b[0m\u001b[0;34m\u001b[0m\u001b[0;34m\u001b[0m\u001b[0m\n\u001b[0m\u001b[1;32m      2\u001b[0m \u001b[0mn2\u001b[0m \u001b[0;34m=\u001b[0m \u001b[0mfloat\u001b[0m\u001b[0;34m(\u001b[0m\u001b[0minput\u001b[0m\u001b[0;34m(\u001b[0m\u001b[0;34m\"Enter number 2: \"\u001b[0m\u001b[0;34m)\u001b[0m\u001b[0;34m)\u001b[0m\u001b[0;34m\u001b[0m\u001b[0;34m\u001b[0m\u001b[0m\n\u001b[1;32m      3\u001b[0m \u001b[0mop\u001b[0m \u001b[0;34m=\u001b[0m \u001b[0minput\u001b[0m\u001b[0;34m(\u001b[0m\u001b[0;34m'Enter operator: +,-,*,/,//,**,%'\u001b[0m\u001b[0;34m)\u001b[0m\u001b[0;34m\u001b[0m\u001b[0;34m\u001b[0m\u001b[0m\n\u001b[1;32m      4\u001b[0m \u001b[0;34m\u001b[0m\u001b[0m\n\u001b[1;32m      5\u001b[0m \u001b[0;31m#Output:\u001b[0m\u001b[0;34m\u001b[0m\u001b[0;34m\u001b[0m\u001b[0m\n",
            "\u001b[0;32m/usr/local/lib/python3.12/dist-packages/ipykernel/kernelbase.py\u001b[0m in \u001b[0;36mraw_input\u001b[0;34m(self, prompt)\u001b[0m\n\u001b[1;32m   1175\u001b[0m                 \u001b[0;34m\"raw_input was called, but this frontend does not support input requests.\"\u001b[0m\u001b[0;34m\u001b[0m\u001b[0;34m\u001b[0m\u001b[0m\n\u001b[1;32m   1176\u001b[0m             )\n\u001b[0;32m-> 1177\u001b[0;31m         return self._input_request(\n\u001b[0m\u001b[1;32m   1178\u001b[0m             \u001b[0mstr\u001b[0m\u001b[0;34m(\u001b[0m\u001b[0mprompt\u001b[0m\u001b[0;34m)\u001b[0m\u001b[0;34m,\u001b[0m\u001b[0;34m\u001b[0m\u001b[0;34m\u001b[0m\u001b[0m\n\u001b[1;32m   1179\u001b[0m             \u001b[0mself\u001b[0m\u001b[0;34m.\u001b[0m\u001b[0m_parent_ident\u001b[0m\u001b[0;34m[\u001b[0m\u001b[0;34m\"shell\"\u001b[0m\u001b[0;34m]\u001b[0m\u001b[0;34m,\u001b[0m\u001b[0;34m\u001b[0m\u001b[0;34m\u001b[0m\u001b[0m\n",
            "\u001b[0;32m/usr/local/lib/python3.12/dist-packages/ipykernel/kernelbase.py\u001b[0m in \u001b[0;36m_input_request\u001b[0;34m(self, prompt, ident, parent, password)\u001b[0m\n\u001b[1;32m   1217\u001b[0m             \u001b[0;32mexcept\u001b[0m \u001b[0mKeyboardInterrupt\u001b[0m\u001b[0;34m:\u001b[0m\u001b[0;34m\u001b[0m\u001b[0;34m\u001b[0m\u001b[0m\n\u001b[1;32m   1218\u001b[0m                 \u001b[0;31m# re-raise KeyboardInterrupt, to truncate traceback\u001b[0m\u001b[0;34m\u001b[0m\u001b[0;34m\u001b[0m\u001b[0m\n\u001b[0;32m-> 1219\u001b[0;31m                 \u001b[0;32mraise\u001b[0m \u001b[0mKeyboardInterrupt\u001b[0m\u001b[0;34m(\u001b[0m\u001b[0;34m\"Interrupted by user\"\u001b[0m\u001b[0;34m)\u001b[0m \u001b[0;32mfrom\u001b[0m \u001b[0;32mNone\u001b[0m\u001b[0;34m\u001b[0m\u001b[0;34m\u001b[0m\u001b[0m\n\u001b[0m\u001b[1;32m   1220\u001b[0m             \u001b[0;32mexcept\u001b[0m \u001b[0mException\u001b[0m\u001b[0;34m:\u001b[0m\u001b[0;34m\u001b[0m\u001b[0;34m\u001b[0m\u001b[0m\n\u001b[1;32m   1221\u001b[0m                 \u001b[0mself\u001b[0m\u001b[0;34m.\u001b[0m\u001b[0mlog\u001b[0m\u001b[0;34m.\u001b[0m\u001b[0mwarning\u001b[0m\u001b[0;34m(\u001b[0m\u001b[0;34m\"Invalid Message:\"\u001b[0m\u001b[0;34m,\u001b[0m \u001b[0mexc_info\u001b[0m\u001b[0;34m=\u001b[0m\u001b[0;32mTrue\u001b[0m\u001b[0;34m)\u001b[0m\u001b[0;34m\u001b[0m\u001b[0;34m\u001b[0m\u001b[0m\n",
            "\u001b[0;31mKeyboardInterrupt\u001b[0m: Interrupted by user"
          ]
        }
      ]
    },
    {
      "cell_type": "markdown",
      "source": [
        "***ASSIGNMENT 4***"
      ],
      "metadata": {
        "id": "nz_33Zw19weH"
      }
    },
    {
      "cell_type": "code",
      "source": [
        "for hour in range(1,9):\n",
        "  fee = 5 + 2.5 * hour\n",
        "\n",
        "  if fee < 10:\n",
        "    fee = 10.0\n",
        "  elif fee > 20:\n",
        "    fee = 20.0\n",
        "\n",
        "  print(hour, fee)"
      ],
      "metadata": {
        "colab": {
          "base_uri": "https://localhost:8080/"
        },
        "id": "BuPgXj059zGt",
        "outputId": "d396c954-b0f2-4476-f78e-74813ae212d2"
      },
      "execution_count": null,
      "outputs": [
        {
          "output_type": "stream",
          "name": "stdout",
          "text": [
            "1 10.0\n",
            "2 10.0\n",
            "3 12.5\n",
            "4 15.0\n",
            "5 17.5\n",
            "6 20.0\n",
            "7 20.0\n",
            "8 20.0\n"
          ]
        }
      ]
    },
    {
      "cell_type": "markdown",
      "source": [
        "***ASSIGNMENT 5***"
      ],
      "metadata": {
        "id": "1PvAZTMAs_ND"
      }
    },
    {
      "cell_type": "code",
      "source": [
        "for ad in range(0,201,25):\n",
        "  revenue = (20 + 2 * ad ** 0.5) * 10\n",
        "  costs = 200 + ad\n",
        "  profit = revenue - costs\n",
        "  print(ad, round(profit))"
      ],
      "metadata": {
        "colab": {
          "base_uri": "https://localhost:8080/"
        },
        "id": "0DPcFj59tQmm",
        "outputId": "7fa7239a-7926-43ec-a003-c7951b46129f"
      },
      "execution_count": 7,
      "outputs": [
        {
          "output_type": "stream",
          "name": "stdout",
          "text": [
            "0 0\n",
            "25 75\n",
            "50 91\n",
            "75 98\n",
            "100 100\n",
            "125 99\n",
            "150 95\n",
            "175 90\n",
            "200 83\n"
          ]
        }
      ]
    }
  ]
}