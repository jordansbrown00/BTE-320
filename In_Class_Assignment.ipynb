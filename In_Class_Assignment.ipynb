{
  "nbformat": 4,
  "nbformat_minor": 0,
  "metadata": {
    "colab": {
      "provenance": [],
      "authorship_tag": "ABX9TyMruIj4enYUzS1BLwpU1DQb",
      "include_colab_link": true
    },
    "kernelspec": {
      "name": "python3",
      "display_name": "Python 3"
    },
    "language_info": {
      "name": "python"
    }
  },
  "cells": [
    {
      "cell_type": "markdown",
      "metadata": {
        "id": "view-in-github",
        "colab_type": "text"
      },
      "source": [
        "<a href=\"https://colab.research.google.com/github/jordansbrown00/BTE-320/blob/main/In_Class_Assignment.ipynb\" target=\"_parent\"><img src=\"https://colab.research.google.com/assets/colab-badge.svg\" alt=\"Open In Colab\"/></a>"
      ]
    },
    {
      "cell_type": "markdown",
      "source": [
        "***ASSIGNMENT 1***"
      ],
      "metadata": {
        "id": "oaSoEACSmiOq"
      }
    },
    {
      "cell_type": "markdown",
      "source": [
        "Inputs:\n",
        "Sales; % of COGS\n",
        "\n",
        "ENTER BOTH INPUTS AS INPUTS\n",
        "\n",
        "Outputs:\n",
        "COGS; Gross Profit\n",
        "\n",
        "Find the process\n",
        "\n"
      ],
      "metadata": {
        "id": "wQ6NPh3A-9Je"
      }
    },
    {
      "cell_type": "markdown",
      "source": [
        "New input:\n",
        "1. Add input for tax rate (%)\n",
        "\n",
        "New processes + output:\n",
        "1. Calculate taxes: Gross profit * taxes\n",
        "2. net income: gross profit - taxes"
      ],
      "metadata": {
        "id": "JBEhf0EWE7Ol"
      }
    },
    {
      "cell_type": "code",
      "source": [
        "# Inputs: Sales ($) and cost of goods pct (%) +1 input:\n",
        "sales = input(\"Enter sales ($): \")\n",
        "sales = float(sales)\n",
        "\n",
        "cogs_pct = input(\"Enter Cost of Goods (%): \")\n",
        "cogs_pct = float(cogs_pct)\n",
        "\n",
        "rate = input(\"Enter tax rate (%): \")\n",
        "rate = float(rate)\n",
        "\n",
        "# Processes: calculate cost of goods sold and calculate +2 processes:\n",
        "cogs = sales * cogs_pct / 100\n",
        "grossProfit = sales - cogs\n",
        "taxes = grossProfit * rate / 100\n",
        "netIncome = grossProfit - taxes\n",
        "\n",
        "# Outputs - display cost of goods sold and gross profit on the screen +2 outputs:\n",
        "print(f\"Cost of Goods Sold: ${cogs}\")\n",
        "print(f\"Gross Profit: ${grossProfit}\")\n",
        "print(f\"Net Income: ${netIncome}\")\n"
      ],
      "metadata": {
        "colab": {
          "base_uri": "https://localhost:8080/"
        },
        "id": "_QbGxZ0uCAHa",
        "outputId": "25844a3b-3032-4f53-b179-e68f4a920380"
      },
      "execution_count": null,
      "outputs": [
        {
          "output_type": "stream",
          "name": "stdout",
          "text": [
            "Enter sales ($): 12000\n",
            "Enter Cost of Goods (%): 40\n",
            "Enter tax rate (%): 30\n",
            "Cost of Goods Sold: $4800.0\n",
            "Gross Profit: $7200.0\n",
            "Net Income: $5040.0\n"
          ]
        }
      ]
    },
    {
      "cell_type": "markdown",
      "source": [
        "***ASSIGNMENT 2***"
      ],
      "metadata": {
        "id": "pkh40REEmZKz"
      }
    },
    {
      "cell_type": "markdown",
      "source": [
        "Inputs:demand, supply cost, holding cost\n",
        "\n",
        "Outputs: calculate how much of the item to reorder to minimize annual ordering storing costs\n",
        "\n",
        "\n",
        "Find the process"
      ],
      "metadata": {
        "id": "0jwpFl9vmsfg"
      }
    },
    {
      "cell_type": "code",
      "source": [
        "#Inputs: demand, sales, holding costs\n",
        "demand = input(\"Enter demand (units/year): \")\n",
        "demand = int(demand)\n",
        "\n",
        "reorder = input(\"Enter reorder cost ($/order): \")\n",
        "reorder = float(reorder)\n",
        "\n",
        "holding = input(\"Enter holding_cost ($/unit/year): \")\n",
        "holding = float(holding)\n",
        "\n",
        "#Processes:\n",
        "eoq = (2 *demand * reorder / holding) ** (1/2)\n",
        "\n",
        "#Output#\n",
        "print(f\"EOQ: {eoq} units\")"
      ],
      "metadata": {
        "colab": {
          "base_uri": "https://localhost:8080/"
        },
        "id": "TniZRIqknm6l",
        "outputId": "84ecfe29-b822-4be7-b42e-6f4974260e20"
      },
      "execution_count": null,
      "outputs": [
        {
          "output_type": "stream",
          "name": "stdout",
          "text": [
            "Enter demand (units/year): 1000\n",
            "Enter reorder cost ($/order): 50\n",
            "Enter holding_cost ($/unit/year): 100\n",
            "EOQ: 31.622776601683793 units\n"
          ]
        }
      ]
    },
    {
      "cell_type": "markdown",
      "source": [
        "***ASSIGNMENT 3***"
      ],
      "metadata": {
        "id": "SKu-fhRWp_Uy"
      }
    },
    {
      "cell_type": "code",
      "source": [
        "#Inputs: my hours studied, my friends hours studied, total hours studed\n",
        "my_hours = float(input(\"My study hours\"))\n",
        "friend_hours = float(input(\"Friend study hours\"))\n",
        "op = input('Enter operator: +,-,*,/,//,**,%')\n",
        "\n",
        "#Output:\n",
        "if op == \"+\":\n",
        "  total_hours = my_hours + friend_hours\n",
        "elif op == \"-\":\n",
        "  total_hours = my_hours - friend_hours\n",
        "elif op == \"*\":\n",
        "  total_hours = my_hours * friend_hours\n",
        "elif op == \"/\":\n",
        "  total_hours = my_hours / friend_hours\n",
        "elif op == \"//\":\n",
        "  total_hours = my_hours // friend_hours\n",
        "elif op == \"**\":\n",
        "  total_hours = my_hours ** friend_hours\n",
        "elif op == \"%\":\n",
        "  total_hours = my_hours % friend_hours\n",
        "else:\n",
        "  total_hours = None\n",
        "  print(\"Invalid Operator\")\n",
        "\n",
        "print(f\"total = {total_hours}\")"
      ],
      "metadata": {
        "colab": {
          "base_uri": "https://localhost:8080/"
        },
        "id": "Av19CxcvqCxP",
        "outputId": "6a97c3b4-7f69-4ef8-e788-bf56aa61fb3a"
      },
      "execution_count": 22,
      "outputs": [
        {
          "output_type": "stream",
          "name": "stdout",
          "text": [
            "My study hours6\n",
            "Friend study hours3\n",
            "Enter operator: +,-,*,/,//,**,%/\n",
            "total = 2.0\n"
          ]
        }
      ]
    },
    {
      "cell_type": "code",
      "source": [
        "n1 = float(input(\"Enter number 1: \"))\n",
        "n2 = float(input(\"Enter number 2: \"))\n",
        "op = input('Enter operator: +,-,*,/,//,**,%')\n",
        "\n",
        "#Output:\n",
        "if op == \"+\":\n",
        "  res = n1 + n2\n",
        "elif op == \"-\":\n",
        "  res = n1 - n2\n",
        "elif op == \"*\":\n",
        "  res = n1 * n2\n",
        "elif op == \"/\":\n",
        "  res = n1 / n2\n",
        "elif op == \"//\":\n",
        "  res = n1 // n2\n",
        "elif op == \"**\":\n",
        "  res = n1 ** n2\n",
        "elif op == \"%\":\n",
        "  res = n1 % n2\n",
        "else:\n",
        "  res = None\n",
        "  print(\"Invalid Operator\")\n",
        "\n",
        "print(f\"total = {total_hours}\")"
      ],
      "metadata": {
        "colab": {
          "base_uri": "https://localhost:8080/"
        },
        "id": "I4aADjoSwkWd",
        "outputId": "0857f41d-f1bb-498f-e404-284d634dc039"
      },
      "execution_count": 24,
      "outputs": [
        {
          "output_type": "stream",
          "name": "stdout",
          "text": [
            "Enter number 1: 2\n",
            "Enter number 2: 4\n",
            "Enter operator: +,-,*,/,//,**,%+\n",
            "total = 18.0\n"
          ]
        }
      ]
    }
  ]
}