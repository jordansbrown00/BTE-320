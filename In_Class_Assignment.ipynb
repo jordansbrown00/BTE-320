{
  "nbformat": 4,
  "nbformat_minor": 0,
  "metadata": {
    "colab": {
      "provenance": [],
      "authorship_tag": "ABX9TyMR9gSTK55h3ovoTZceBr+s",
      "include_colab_link": true
    },
    "kernelspec": {
      "name": "python3",
      "display_name": "Python 3"
    },
    "language_info": {
      "name": "python"
    }
  },
  "cells": [
    {
      "cell_type": "markdown",
      "metadata": {
        "id": "view-in-github",
        "colab_type": "text"
      },
      "source": [
        "<a href=\"https://colab.research.google.com/github/jordansbrown00/BTE-320/blob/main/In_Class_Assignment.ipynb\" target=\"_parent\"><img src=\"https://colab.research.google.com/assets/colab-badge.svg\" alt=\"Open In Colab\"/></a>"
      ]
    },
    {
      "cell_type": "markdown",
      "source": [
        "***ASSIGNMENT 1***"
      ],
      "metadata": {
        "id": "oaSoEACSmiOq"
      }
    },
    {
      "cell_type": "markdown",
      "source": [
        "Inputs:\n",
        "Sales; % of COGS\n",
        "\n",
        "ENTER BOTH INPUTS AS INPUTS\n",
        "\n",
        "Outputs:\n",
        "COGS; Gross Profit\n",
        "\n",
        "Find the process\n",
        "\n"
      ],
      "metadata": {
        "id": "wQ6NPh3A-9Je"
      }
    },
    {
      "cell_type": "markdown",
      "source": [
        "New input:\n",
        "1. Add input for tax rate (%)\n",
        "\n",
        "New processes + output:\n",
        "1. Calculate taxes: Gross profit * taxes\n",
        "2. net income: gross profit - taxes"
      ],
      "metadata": {
        "id": "JBEhf0EWE7Ol"
      }
    },
    {
      "cell_type": "code",
      "source": [
        "# Inputs: Sales ($) and cost of goods pct (%) +1 input:\n",
        "sales = input(\"Enter sales ($): \")\n",
        "sales = float(sales)\n",
        "\n",
        "cogs_pct = input(\"Enter Cost of Goods (%): \")\n",
        "cogs_pct = float(cogs_pct)\n",
        "\n",
        "rate = input(\"Enter tax rate (%): \")\n",
        "rate = float(rate)\n",
        "\n",
        "# Processes: calculate cost of goods sold and calculate +2 processes:\n",
        "cogs = sales * cogs_pct / 100\n",
        "grossProfit = sales - cogs\n",
        "taxes = grossProfit * rate / 100\n",
        "netIncome = grossProfit - taxes\n",
        "\n",
        "# Outputs - display cost of goods sold and gross profit on the screen +2 outputs:\n",
        "print(f\"Cost of Goods Sold: ${cogs}\")\n",
        "print(f\"Gross Profit: ${grossProfit}\")\n",
        "print(f\"Net Income: ${netIncome}\")\n"
      ],
      "metadata": {
        "colab": {
          "base_uri": "https://localhost:8080/"
        },
        "id": "_QbGxZ0uCAHa",
        "outputId": "25844a3b-3032-4f53-b179-e68f4a920380"
      },
      "execution_count": null,
      "outputs": [
        {
          "output_type": "stream",
          "name": "stdout",
          "text": [
            "Enter sales ($): 12000\n",
            "Enter Cost of Goods (%): 40\n",
            "Enter tax rate (%): 30\n",
            "Cost of Goods Sold: $4800.0\n",
            "Gross Profit: $7200.0\n",
            "Net Income: $5040.0\n"
          ]
        }
      ]
    },
    {
      "cell_type": "markdown",
      "source": [
        "***ASSIGNMENT 2***"
      ],
      "metadata": {
        "id": "pkh40REEmZKz"
      }
    },
    {
      "cell_type": "markdown",
      "source": [
        "Inputs:demand, supply cost, holding cost\n",
        "\n",
        "Outputs: calculate how much of the item to reorder to minimize annual ordering storing costs\n",
        "\n",
        "\n",
        "Find the process"
      ],
      "metadata": {
        "id": "0jwpFl9vmsfg"
      }
    },
    {
      "cell_type": "code",
      "source": [
        "#Inputs: demand, sales, holding costs\n",
        "demand = input(\"Enter demand (units/year): \")\n",
        "demand = int(demand)\n",
        "\n",
        "reorder = input(\"Enter reorder cost ($/order): \")\n",
        "reorder = float(reorder)\n",
        "\n",
        "holding = input(\"Enter holding_cost ($/unit/year): \")\n",
        "holding = float(holding)\n",
        "\n",
        "#Processes:\n",
        "eoq = (2 *demand * reorder / holding) ** (1/2)\n",
        "\n",
        "#Output#\n",
        "print(f\"EOQ: {eoq} units\")"
      ],
      "metadata": {
        "colab": {
          "base_uri": "https://localhost:8080/"
        },
        "id": "TniZRIqknm6l",
        "outputId": "29a5a6fe-7aa4-477b-8ae9-54cc1d828746"
      },
      "execution_count": null,
      "outputs": [
        {
          "output_type": "stream",
          "name": "stdout",
          "text": [
            "Enter demand (units/year): 1000\n",
            "Enter reorder cost ($/order): 50\n",
            "Enter holding_cost ($/unit/year): 100\n",
            "EOQ: 31.622776601683793 units\n"
          ]
        }
      ]
    },
    {
      "cell_type": "markdown",
      "source": [
        "***ASSIGNMENT 3***"
      ],
      "metadata": {
        "id": "SKu-fhRWp_Uy"
      }
    },
    {
      "cell_type": "code",
      "source": [
        "#Inputs: my hours studied, my friends hours studied, total hours studed\n",
        "my_hours = float(input(\"My study hours\"))\n",
        "friend_hours = float(input(\"Friend study hours\"))\n",
        "op = input('Enter operator: +,-,*,/,//,**,%')\n",
        "\n",
        "#Output:\n",
        "if op == \"+\":\n",
        "  total_hours = my_hours + friend_hours\n",
        "elif op == \"-\":\n",
        "  total_hours = my_hours - friend_hours\n",
        "elif op == \"*\":\n",
        "  total_hours = my_hours * friend_hours\n",
        "elif op == \"/\":\n",
        "  total_hours = my_hours / friend_hours\n",
        "elif op == \"//\":\n",
        "  total_hours = my_hours // friend_hours\n",
        "elif op == \"**\":\n",
        "  total_hours = my_hours ** friend_hours\n",
        "elif op == \"%\":\n",
        "  total_hours = my_hours % friend_hours\n",
        "else:\n",
        "  total_hours = None\n",
        "  print(\"Invalid Operator\")\n",
        "\n",
        "print(f\"total = {total_hours}\")"
      ],
      "metadata": {
        "colab": {
          "base_uri": "https://localhost:8080/"
        },
        "id": "Av19CxcvqCxP",
        "outputId": "6a97c3b4-7f69-4ef8-e788-bf56aa61fb3a"
      },
      "execution_count": null,
      "outputs": [
        {
          "output_type": "stream",
          "name": "stdout",
          "text": [
            "My study hours6\n",
            "Friend study hours3\n",
            "Enter operator: +,-,*,/,//,**,%/\n",
            "total = 2.0\n"
          ]
        }
      ]
    },
    {
      "cell_type": "code",
      "source": [
        "n1 = float(input(\"Enter number 1: \"))\n",
        "n2 = float(input(\"Enter number 2: \"))\n",
        "op = input('Enter operator: +,-,*,/,//,**,%')\n",
        "\n",
        "#Output:\n",
        "if op == \"+\":\n",
        "  res = n1 + n2\n",
        "elif op == \"-\":\n",
        "  res = n1 - n2\n",
        "elif op == \"*\":\n",
        "  res = n1 * n2\n",
        "elif op == \"/\":\n",
        "  res = n1 / n2\n",
        "elif op == \"//\":\n",
        "  res = n1 // n2\n",
        "elif op == \"**\":\n",
        "  res = n1 ** n2\n",
        "elif op == \"%\":\n",
        "  res = n1 % n2\n",
        "else:\n",
        "  res = None\n",
        "  print(\"Invalid Operator\")\n",
        "\n",
        "print(f\"total = {res}\")"
      ],
      "metadata": {
        "colab": {
          "base_uri": "https://localhost:8080/"
        },
        "id": "I4aADjoSwkWd",
        "outputId": "6f4945be-dcf4-44aa-cd35-c803f02bd2a5"
      },
      "execution_count": null,
      "outputs": [
        {
          "output_type": "stream",
          "name": "stdout",
          "text": [
            "Enter number 1: 8\n",
            "Enter number 2: 9\n",
            "Enter operator: +,-,*,/,//,**,%+\n",
            "total = 17.0\n"
          ]
        }
      ]
    },
    {
      "cell_type": "markdown",
      "source": [
        "***ASSIGNMENT 4***"
      ],
      "metadata": {
        "id": "nz_33Zw19weH"
      }
    },
    {
      "cell_type": "code",
      "source": [
        "for hour in range(1, 9):\n",
        "  fee = 5 + 2.5 * hour\n",
        "\n",
        "  if fee < 10:\n",
        "    fee = 10.0\n",
        "  elif fee > 20:\n",
        "    fee = 20.0\n",
        "\n",
        "  print(hour, fee)"
      ],
      "metadata": {
        "colab": {
          "base_uri": "https://localhost:8080/"
        },
        "id": "BuPgXj059zGt",
        "outputId": "f5a11e8d-47b0-4f80-de91-d59bd28b23f6"
      },
      "execution_count": null,
      "outputs": [
        {
          "output_type": "stream",
          "name": "stdout",
          "text": [
            "1 10.0\n",
            "2 10.0\n",
            "3 12.5\n",
            "4 15.0\n",
            "5 17.5\n",
            "6 20.0\n",
            "7 20.0\n",
            "8 20.0\n"
          ]
        }
      ]
    },
    {
      "cell_type": "markdown",
      "source": [
        "***ASSIGNMENT 5***"
      ],
      "metadata": {
        "id": "1PvAZTMAs_ND"
      }
    },
    {
      "cell_type": "code",
      "source": [
        "for ad in range(0,201,25):\n",
        "  revenue = (20 + 2 * ad ** 0.5) * 10\n",
        "  costs = 200 + ad\n",
        "  profit = revenue - costs\n",
        "  print(ad, round(profit))"
      ],
      "metadata": {
        "colab": {
          "base_uri": "https://localhost:8080/"
        },
        "id": "0DPcFj59tQmm",
        "outputId": "7fa7239a-7926-43ec-a003-c7951b46129f"
      },
      "execution_count": null,
      "outputs": [
        {
          "output_type": "stream",
          "name": "stdout",
          "text": [
            "0 0\n",
            "25 75\n",
            "50 91\n",
            "75 98\n",
            "100 100\n",
            "125 99\n",
            "150 95\n",
            "175 90\n",
            "200 83\n"
          ]
        }
      ]
    },
    {
      "cell_type": "markdown",
      "source": [
        "***ASSIGNMENT 6***"
      ],
      "metadata": {
        "id": "wwizeZh9NXv4"
      }
    },
    {
      "cell_type": "code",
      "source": [
        "numbers = []\n",
        "num = float(input(\"Give a number: \"))\n",
        "\n",
        "\n",
        "while num != 0:\n",
        "  numbers.append(num)\n",
        "  num = float(input(\"Give another number: \"))\n",
        "\n",
        "numbers.sort(reverse=True)\n",
        "print(numbers)"
      ],
      "metadata": {
        "colab": {
          "base_uri": "https://localhost:8080/"
        },
        "id": "aRz-SXDpNYRf",
        "outputId": "5553883d-11d9-4d7e-9bef-7082d1f07a57"
      },
      "execution_count": null,
      "outputs": [
        {
          "output_type": "stream",
          "name": "stdout",
          "text": [
            "Give a number: 8\n",
            "Give another number: 6\n",
            "Give another number: 9\n",
            "Give another number: 3\n",
            "Give another number: 0\n",
            "[9.0, 8.0, 6.0, 3.0]\n"
          ]
        }
      ]
    },
    {
      "cell_type": "markdown",
      "source": [
        "***ASSIGNMENT 7***"
      ],
      "metadata": {
        "id": "iIfbg0E8Or1I"
      }
    },
    {
      "cell_type": "code",
      "source": [
        "# CHAT GPT'S\n",
        "import random\n",
        "\n",
        "print(\"Welcome to Rock, Paper, Scissors!\")\n",
        "\n",
        "# Ask user if they want to play\n",
        "play = input(\"Do you want to play? (yes/no): \").lower()\n",
        "\n",
        "while play == \"yes\":\n",
        "    # Get user choice\n",
        "    user = input(\"Choose rock, paper, or scissors: \").lower()\n",
        "\n",
        "    # Computer randomly chooses\n",
        "    computer = random.choice(['rock', 'paper', 'scissors'])\n",
        "    print(f\"Computer chose: {computer}\")\n",
        "\n",
        "    # Determine winner\n",
        "    if user == computer:\n",
        "        print(\"It's a tie!\")\n",
        "    elif (user == \"rock\" and computer == \"scissors\") or \\\n",
        "         (user == \"paper\" and computer == \"rock\") or \\\n",
        "         (user == \"scissors\" and computer == \"paper\"):\n",
        "        print(\"You win!\")\n",
        "    else:\n",
        "        print(\"Computer wins!\")\n",
        "\n",
        "    # Ask if the user wants to play again\n",
        "    play = input(\"Do you want to play again? (yes/no): \").lower()\n",
        "\n",
        "print(\"Thanks for playing!\")"
      ],
      "metadata": {
        "colab": {
          "base_uri": "https://localhost:8080/"
        },
        "id": "HKtJGpwe-Az5",
        "outputId": "eb42b53e-5b34-4ce3-ab65-ab49fe364de7"
      },
      "execution_count": null,
      "outputs": [
        {
          "output_type": "stream",
          "name": "stdout",
          "text": [
            "Welcome to Rock, Paper, Scissors!\n",
            "Do you want to play? (yes/no): yes\n",
            "Choose rock, paper, or scissors: rock\n",
            "Computer chose: paper\n",
            "Computer wins!\n",
            "Do you want to play again? (yes/no): yes\n",
            "Choose rock, paper, or scissors: rock\n",
            "Computer chose: scissors\n",
            "You win!\n",
            "Do you want to play again? (yes/no): yes\n",
            "Choose rock, paper, or scissors: rock\n",
            "Computer chose: paper\n",
            "Computer wins!\n",
            "Do you want to play again? (yes/no): no\n",
            "Thanks for playing!\n"
          ]
        }
      ]
    },
    {
      "cell_type": "markdown",
      "source": [
        "```python\n",
        "user_choice == 'rock' and pc_choice == 'scissors' or\n",
        "user_choice == 'scissors' and pc_choice == 'paper' or\n",
        "user_choice == 'paper' and pc_choice == 'rock'\n",
        "```"
      ],
      "metadata": {
        "id": "RUDkDPsWGL-N"
      }
    },
    {
      "cell_type": "code",
      "source": [
        "import random\n",
        "\n",
        "while True:\n",
        "\n",
        "  play = input('Do you want to play a game (yes/no)?').strip().lower()\n",
        "\n",
        "  if play == 'no': # == play != 'yes'\n",
        "    break\n",
        "  #Rock, paper, scissors starts here...\n",
        "  user_choice = input('Choose between rock/paper/scissors: ')\n",
        "  pc_choice = random.choice(['rock', 'paper', 'scissors'])\n",
        "  print(f'User: {user_choice}, Computer: {pc_choice}')\n",
        "\n",
        "  if user_choice == pc_choice:\n",
        "    print('Tie')\n",
        "  elif(\n",
        "      (user_choice == 'rock' and pc_choice == 'scissors') or\n",
        "      (user_choice == 'scissors' and pc_choice == 'paper') or\n",
        "      (user_choice == 'paper' and pc_choice == 'rock')\n",
        "  ):\n",
        "    print('User wins!')\n",
        "  else:\n",
        "    print('Computer wins')"
      ],
      "metadata": {
        "id": "UApfgVP1_4OO",
        "colab": {
          "base_uri": "https://localhost:8080/"
        },
        "outputId": "101c51f2-98eb-47eb-e76a-e1d5ce054bfb"
      },
      "execution_count": 3,
      "outputs": [
        {
          "name": "stdout",
          "output_type": "stream",
          "text": [
            "Do you want to play a game (yes/no)?yes\n",
            "Choose between rock/paper/scissors: rock\n",
            "User: rock, Computer: rock\n",
            "Tie\n",
            "Do you want to play a game (yes/no)?yes\n",
            "Choose between rock/paper/scissors: rock\n",
            "User: rock, Computer: rock\n",
            "Tie\n",
            "Do you want to play a game (yes/no)?yes\n",
            "Choose between rock/paper/scissors: rock\n",
            "User: rock, Computer: paper\n",
            "Computer wins\n",
            "Do you want to play a game (yes/no)?no\n"
          ]
        }
      ]
    },
    {
      "cell_type": "markdown",
      "source": [
        "***ASSIGNMENT 8***"
      ],
      "metadata": {
        "id": "Jogd5lZqOu-L"
      }
    },
    {
      "cell_type": "code",
      "source": [
        "products ={\n",
        "    'P-01' : 9.95,\n",
        "    'P-02' : 10.50\n",
        "}\n",
        "\n",
        "id = input('Enter product ID: ')\n",
        "\n",
        "if id in products:\n",
        "  print(f'ID: {id}, Price: {products[id]}$') #OR USE products[id]\n",
        "else:\n",
        "  print(f'{id} not found')"
      ],
      "metadata": {
        "colab": {
          "base_uri": "https://localhost:8080/"
        },
        "id": "3gwgf_TlO8Dq",
        "outputId": "56fb55f5-edd6-4072-e75b-f444bb1ddd40"
      },
      "execution_count": 23,
      "outputs": [
        {
          "output_type": "stream",
          "name": "stdout",
          "text": [
            "Enter product ID: P-01\n",
            "ID: P-01, Price: 9.95$\n"
          ]
        }
      ]
    }
  ]
}