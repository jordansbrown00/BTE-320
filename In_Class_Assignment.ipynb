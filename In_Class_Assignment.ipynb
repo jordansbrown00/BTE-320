{
  "nbformat": 4,
  "nbformat_minor": 0,
  "metadata": {
    "colab": {
      "provenance": [],
      "authorship_tag": "ABX9TyN5+qsIRZvzyKfCN+TfXo9+",
      "include_colab_link": true
    },
    "kernelspec": {
      "name": "python3",
      "display_name": "Python 3"
    },
    "language_info": {
      "name": "python"
    }
  },
  "cells": [
    {
      "cell_type": "markdown",
      "metadata": {
        "id": "view-in-github",
        "colab_type": "text"
      },
      "source": [
        "<a href=\"https://colab.research.google.com/github/jordansbrown00/BTE-320/blob/main/In_Class_Assignment.ipynb\" target=\"_parent\"><img src=\"https://colab.research.google.com/assets/colab-badge.svg\" alt=\"Open In Colab\"/></a>"
      ]
    },
    {
      "cell_type": "markdown",
      "source": [
        "***ASSIGNMENT 1***"
      ],
      "metadata": {
        "id": "oaSoEACSmiOq"
      }
    },
    {
      "cell_type": "markdown",
      "source": [
        "Inputs:\n",
        "Sales; % of COGS\n",
        "\n",
        "ENTER BOTH INPUTS AS INPUTS\n",
        "\n",
        "Outputs:\n",
        "COGS; Gross Profit\n",
        "\n",
        "Find the process\n",
        "\n"
      ],
      "metadata": {
        "id": "wQ6NPh3A-9Je"
      }
    },
    {
      "cell_type": "markdown",
      "source": [
        "New input:\n",
        "1. Add input for tax rate (%)\n",
        "\n",
        "New processes + output:\n",
        "1. Calculate taxes: Gross profit * taxes\n",
        "2. net income: gross profit - taxes"
      ],
      "metadata": {
        "id": "JBEhf0EWE7Ol"
      }
    },
    {
      "cell_type": "code",
      "source": [
        "# Inputs: Sales ($) and cost of goods pct (%) +1 input:\n",
        "sales = input(\"Enter sales ($): \")\n",
        "sales = float(sales)\n",
        "\n",
        "cogs_pct = input(\"Enter Cost of Goods (%): \")\n",
        "cogs_pct = float(cogs_pct)\n",
        "\n",
        "rate = input(\"Enter tax rate (%): \")\n",
        "rate = float(rate)\n",
        "\n",
        "# Processes: calculate cost of goods sold and calculate +2 processes:\n",
        "cogs = sales * cogs_pct / 100\n",
        "grossProfit = sales - cogs\n",
        "taxes = grossProfit * rate / 100\n",
        "netIncome = grossProfit - taxes\n",
        "\n",
        "# Outputs - display cost of goods sold and gross profit on the screen +2 outputs:\n",
        "print(f\"Cost of Goods Sold: ${cogs}\")\n",
        "print(f\"Gross Profit: ${grossProfit}\")\n",
        "print(f\"Net Income: ${netIncome}\")\n"
      ],
      "metadata": {
        "colab": {
          "base_uri": "https://localhost:8080/"
        },
        "id": "_QbGxZ0uCAHa",
        "outputId": "25844a3b-3032-4f53-b179-e68f4a920380"
      },
      "execution_count": null,
      "outputs": [
        {
          "output_type": "stream",
          "name": "stdout",
          "text": [
            "Enter sales ($): 12000\n",
            "Enter Cost of Goods (%): 40\n",
            "Enter tax rate (%): 30\n",
            "Cost of Goods Sold: $4800.0\n",
            "Gross Profit: $7200.0\n",
            "Net Income: $5040.0\n"
          ]
        }
      ]
    },
    {
      "cell_type": "markdown",
      "source": [
        "***ASSIGNMENT 2***"
      ],
      "metadata": {
        "id": "pkh40REEmZKz"
      }
    },
    {
      "cell_type": "markdown",
      "source": [
        "Inputs:demand, supply cost, holding cost\n",
        "\n",
        "Outputs: calculate how much of the item to reorder to minimize annual ordering storing costs\n",
        "\n",
        "\n",
        "Find the process"
      ],
      "metadata": {
        "id": "0jwpFl9vmsfg"
      }
    },
    {
      "cell_type": "code",
      "source": [
        "#Inputs: demand, sales, holding costs\n",
        "demand = input(\"Enter demand (units/year): \")\n",
        "demand = int(demand)\n",
        "\n",
        "reorder = (\"Enter reorder cost ($/order): \")\n",
        "reorder = float(reorder)\n",
        "\n",
        "holding = (\"Enter holding_cost ($/unit/year): \")\n",
        "holding = float(holding)\n",
        "\n",
        "#Processes:\n",
        "eoq = (2 *demand * reorder / holding) ** (1/2)\n",
        "\n",
        "#Output#\n",
        "print(f\"EOQ: {eoq} units\")"
      ],
      "metadata": {
        "id": "TniZRIqknm6l"
      },
      "execution_count": null,
      "outputs": []
    }
  ]
}